{
 "cells": [
  {
   "cell_type": "markdown",
   "metadata": {},
   "source": [
    "# HANGPERSON"
   ]
  },
  {
   "cell_type": "markdown",
   "metadata": {},
   "source": [
    "1. Would the word and the letter be choice from the user or the pc?\n",
    "2. "
   ]
  },
  {
   "cell_type": "markdown",
   "metadata": {},
   "source": [
    "MVP\n",
    "1. **1 Player\n",
    "2. **Import library of random word\n",
    "3. **Empty list of guessed word \n",
    "4. **Input the letter that will be guessed\n",
    " - if it’s right it has to replace “_” in the empty list of the word\n",
    " - if the guessed list == the word than you win \n",
    " - if it’s not right, add the letter in another list of the letters chosen\n",
    " - error of letters chosen twice  \n",
    "5. **Input the word that will be guessed\n",
    " - if it’s right “congrats”\n",
    " - if it’s not right \n",
    "8. 1 base 1 pole 1 head 1 body 1 right arm 1 left arm 1 right leg 1 left leg\n"
   ]
  },
  {
   "cell_type": "code",
   "execution_count": null,
   "metadata": {},
   "outputs": [],
   "source": [
    "list_letters = []\n",
    "letter = ''"
   ]
  },
  {
   "cell_type": "code",
   "execution_count": 1,
   "metadata": {},
   "outputs": [],
   "source": [
    "#C:\\Users\\bruna\\AppData\\Roaming\\nltk_data"
   ]
  },
  {
   "cell_type": "code",
   "execution_count": null,
   "metadata": {},
   "outputs": [
    {
     "name": "stdout",
     "output_type": "stream",
     "text": [
      "showing info https://raw.githubusercontent.com/nltk/nltk_data/gh-pages/index.xml\n"
     ]
    }
   ],
   "source": [
    "import nltk\n",
    "nltk.download()\n",
    "\n"
   ]
  },
  {
   "cell_type": "code",
   "execution_count": null,
   "metadata": {},
   "outputs": [],
   "source": [
    "from nltk.corpus import words\n",
    "\n",
    "word_list = words.words()\n",
    "\n",
    "print(len(word_list))\n",
    "print(word_list[5:10])"
   ]
  },
  {
   "cell_type": "code",
   "execution_count": null,
   "metadata": {
    "scrolled": false
   },
   "outputs": [],
   "source": [
    "import random\n",
    "word_possible = []\n",
    "def secret_word():\n",
    "    for i in word_list:\n",
    "        if len(i) < 8 and len(i) > 3:\n",
    "            word_possible.append(i)\n",
    "            word_pc=random.choice(word_possible)\n",
    "    return word_pc.upper()"
   ]
  },
  {
   "cell_type": "code",
   "execution_count": null,
   "metadata": {},
   "outputs": [],
   "source": [
    "def game-play():\n",
    "    "
   ]
  },
  {
   "cell_type": "code",
   "execution_count": null,
   "metadata": {},
   "outputs": [],
   "source": [
    "print(word_pc)"
   ]
  },
  {
   "cell_type": "code",
   "execution_count": null,
   "metadata": {},
   "outputs": [],
   "source": [
    "def letter_input(letter, letters=list_letters):\n",
    "    \"\"\"This functions add a new adds a letter to the list of letters chosen. if it is not a letter or your repeat, it will loop until the right value is added\"\n",
    "    inputs: \n",
    "    letter - letter from a-z and A-Z \n",
    "    letters - optional argument that represents the list of letters chosen by the player\n",
    "    \n",
    "    output\n",
    "    Updated list_letters chosen by the player\n",
    "    \n",
    "    \"\"\"\n",
    "    letter = input('Plesase add a letter in the field below\\n').lower()\n",
    "    flag=True\n",
    "    while flag:\n",
    "        if len(letter) != 1:\n",
    "            print('You must add only a letter\\n')\n",
    "            letter=input('Add a letter ')\n",
    "        elif letter.isalpha() == False:\n",
    "            print('That was not a letter try again\\n')\n",
    "            letter=input('Add a letter')\n",
    "        elif letter in list_letters:\n",
    "            print('Your have already added this value before\\n')\n",
    "            print(list_letters)\n",
    "            letter=input('Add a letter which is not in the above list\\n')\n",
    "        else:\n",
    "            list_letters.append(letter)\n",
    "            flag=False\n",
    "    print('The list of letters already chosen are', list_letters)\n",
    "    "
   ]
  },
  {
   "cell_type": "code",
   "execution_count": null,
   "metadata": {},
   "outputs": [],
   "source": [
    "letter_input(letter)"
   ]
  }
 ],
 "metadata": {
  "kernelspec": {
   "display_name": "Python 3",
   "language": "python",
   "name": "python3"
  },
  "language_info": {
   "codemirror_mode": {
    "name": "ipython",
    "version": 3
   },
   "file_extension": ".py",
   "mimetype": "text/x-python",
   "name": "python",
   "nbconvert_exporter": "python",
   "pygments_lexer": "ipython3",
   "version": "3.8.5"
  }
 },
 "nbformat": 4,
 "nbformat_minor": 4
}
