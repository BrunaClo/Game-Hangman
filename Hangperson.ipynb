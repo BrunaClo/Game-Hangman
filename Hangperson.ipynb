{
 "cells": [
  {
   "cell_type": "markdown",
   "metadata": {},
   "source": [
    "# HANGPERSON"
   ]
  },
  {
   "cell_type": "markdown",
   "metadata": {},
   "source": [
    "1. Would the word and the letter be choice from the user or the pc?\n",
    "2. "
   ]
  },
  {
   "cell_type": "markdown",
   "metadata": {},
   "source": [
    "MVP\n",
    "1. **1 Player\n",
    "2. **Import library of random word\n",
    "3. **Empty list of guessed word \n",
    "4. **Input the letter that will be guessed\n",
    " - if it’s right it has to replace “_” in the empty list of the word\n",
    " - if the guessed list == the word than you win \n",
    " - if it’s not right, add the letter in another list of the letters chosen\n",
    " - error of letters chosen twice  \n",
    "5. **Input the word that will be guessed\n",
    " - if it’s right “congrats”\n",
    " - if it’s not right \n",
    "8. 1 base 1 pole 1 head 1 body 1 right arm 1 left arm 1 right leg 1 left leg\n"
   ]
  },
  {
   "cell_type": "code",
   "execution_count": 11,
   "metadata": {},
   "outputs": [],
   "source": [
    "def display_hangman(tries):\n",
    "    stages = [  \"\"\"\n",
    "    \n",
    "                   -------+\n",
    "                   |      |\n",
    "                   |      O\n",
    "                   |     \\\\|/\n",
    "                   |      |\n",
    "                   |    ./ \\\\.\n",
    "                  ===\n",
    "                   \"\"\",\n",
    "                   \"\"\"\n",
    "                   -------+\n",
    "                   |      |\n",
    "                   |      O\n",
    "                   |     \\\\|/\n",
    "                   |      |\n",
    "                   |     / \\\\\n",
    "                  ===\n",
    "                   \"\"\",\n",
    "                   \"\"\"\n",
    "                   -------+\n",
    "                   |      |\n",
    "                   |      O\n",
    "                   |     \\\\|/\n",
    "                   |      |\n",
    "                   |     /\n",
    "                  ===\n",
    "                   \"\"\",\n",
    "                   \"\"\"\n",
    "                   -------+\n",
    "                   |      |\n",
    "                   |      O\n",
    "                   |     \\\\|/\n",
    "                   |      |\n",
    "                   |\n",
    "                  ===\n",
    "                   \"\"\",\n",
    "                   \"\"\"\n",
    "                   -------+\n",
    "                   |      |\n",
    "                   |      O\n",
    "                   |     \\\\|\n",
    "                   |      |\n",
    "                   |\n",
    "                  ===\n",
    "                   \"\"\",\n",
    "                   \"\"\"\n",
    "                   -------+\n",
    "                   |      |\n",
    "                   |      O\n",
    "                   |      |\n",
    "                   |      |\n",
    "                   |\n",
    "                  ===\n",
    "                   \"\"\",\n",
    "                   \"\"\"\n",
    "                      -------+\n",
    "                   |      |\n",
    "                   |      O\n",
    "                   |      |\n",
    "                   |      \n",
    "                   |\n",
    "                  ===\n",
    "                   \"\"\",\n",
    "                   \"\"\"\n",
    "                   -------+\n",
    "                   |      |\n",
    "                   |      O\n",
    "                   |\n",
    "                   |\n",
    "                   |\n",
    "                  ===\n",
    "                   \"\"\",\n",
    "                   \"\"\"\n",
    "                   That's you try 1/8\n",
    "                   -------+\n",
    "                   |      |\n",
    "                   |      \n",
    "                   |\n",
    "                   |\n",
    "                   |\n",
    "                  ===\n",
    "                   \"\"\"\n",
    "    ]\n",
    "    return stages[tries]"
   ]
  },
  {
   "cell_type": "code",
   "execution_count": 1,
   "metadata": {},
   "outputs": [],
   "source": [
    "list_letters = []\n",
    "letter = ''"
   ]
  },
  {
   "cell_type": "code",
   "execution_count": 2,
   "metadata": {},
   "outputs": [],
   "source": [
    "#C:\\Users\\bruna\\AppData\\Roaming\\nltk_data"
   ]
  },
  {
   "cell_type": "code",
   "execution_count": 3,
   "metadata": {},
   "outputs": [
    {
     "name": "stdout",
     "output_type": "stream",
     "text": [
      "showing info https://raw.githubusercontent.com/nltk/nltk_data/gh-pages/index.xml\n"
     ]
    },
    {
     "data": {
      "text/plain": [
       "True"
      ]
     },
     "execution_count": 3,
     "metadata": {},
     "output_type": "execute_result"
    }
   ],
   "source": [
    "import nltk\n",
    "nltk.download()\n",
    "\n"
   ]
  },
  {
   "cell_type": "code",
   "execution_count": 4,
   "metadata": {},
   "outputs": [
    {
     "name": "stdout",
     "output_type": "stream",
     "text": [
      "236736\n",
      "['aam', 'Aani', 'aardvark', 'aardwolf', 'Aaron']\n"
     ]
    }
   ],
   "source": [
    "from nltk.corpus import words\n",
    "\n",
    "word_list = words.words()\n",
    "\n",
    "print(len(word_list))\n",
    "print(word_list[5:10])"
   ]
  },
  {
   "cell_type": "code",
   "execution_count": 35,
   "metadata": {
    "scrolled": false
   },
   "outputs": [],
   "source": [
    "import random\n",
    "word_possible = []\n",
    "for i in word_list:\n",
    "        if len(i) < 8 and len(i) > 3:\n",
    "            word_possible.append(i)\n",
    "            word_pc=random.choice(word_possible).upper()\n"
   ]
  },
  {
   "cell_type": "code",
   "execution_count": 39,
   "metadata": {},
   "outputs": [
    {
     "name": "stdout",
     "output_type": "stream",
     "text": [
      "HAMMOCK\n",
      "7\n",
      "<class 'str'>\n"
     ]
    }
   ],
   "source": [
    "print(word_pc)\n",
    "print(len(word_pc))\n",
    "print(type(word_pc))"
   ]
  },
  {
   "cell_type": "code",
   "execution_count": 44,
   "metadata": {},
   "outputs": [],
   "source": [
    "def letter_input(letter, letters=list_letters):\n",
    "    tries = 8\n",
    "    \"\"\"This functions add a new adds a letter to the list of letters chosen. if it is not a letter or your repeat, it will loop until the right value is added\"\n",
    "    inputs: \n",
    "    letter - letter from a-z and A-Z \n",
    "    letters - optional argument that represents the list of letters chosen by the player\n",
    "    \n",
    "    output\n",
    "    Updated list_letters chosen by the player\n",
    "    \n",
    "    \"\"\"\n",
    "    letter = input('Plesase add a letter in the field below\\n').lower()\n",
    "    flag=True\n",
    "    while flag:\n",
    "        if len(letter) != 1:\n",
    "            print('You must add only a letter\\n')\n",
    "            letter=input('Add a letter ')\n",
    "        elif letter.isalpha() == False:\n",
    "            print('That was not a letter try again\\n')\n",
    "            letter=input('Add a letter')\n",
    "        elif letter in list_letters:\n",
    "            print('Your have already added this value before\\n')\n",
    "            print(list_letters)\n",
    "            letter=input('Add a letter which is not in the above list\\n')\n",
    "        else:\n",
    "            list_letters.append(letter)\n",
    "            tries -= 1\n",
    "            flag=False\n",
    "    print('The list of letters already chosen are', list_letters)\n",
    "    "
   ]
  },
  {
   "cell_type": "code",
   "execution_count": null,
   "metadata": {},
   "outputs": [],
   "source": [
    "letter_input(letter)"
   ]
  },
  {
   "cell_type": "code",
   "execution_count": 47,
   "metadata": {},
   "outputs": [
    {
     "ename": "SyntaxError",
     "evalue": "EOL while scanning string literal (<ipython-input-47-6ba30b6872d1>, line 16)",
     "output_type": "error",
     "traceback": [
      "\u001b[1;36m  File \u001b[1;32m\"<ipython-input-47-6ba30b6872d1>\"\u001b[1;36m, line \u001b[1;32m16\u001b[0m\n\u001b[1;33m    print(f\"The letters used are : {list_letters})\u001b[0m\n\u001b[1;37m                                                  ^\u001b[0m\n\u001b[1;31mSyntaxError\u001b[0m\u001b[1;31m:\u001b[0m EOL while scanning string literal\n"
     ]
    }
   ],
   "source": [
    "def game_play(hangman):\n",
    "    print(f\"{'*'*10} Let's Play Hangman {'*'*10}\")\n",
    "    print(display_hangman(tries))\n",
    "    word_to_complete = \"_\"*(len(word_pc))\n",
    "    print(word_to_complete)\n",
    "    guess_letters = []\n",
    "    guess_word = []\n",
    "    list_letters = []\n",
    "    word_list = []\n",
    "    letter = ''\n",
    "    while guess_word == word_pc or word_to_complete == word_pc and tries > 0:\n",
    "        letter_input(letter)\n",
    "        \n",
    "        \n",
    "        letter = input('Plesase add a letter or a word in the field below\\n').upper()\n",
    "        if len(letter) == 1 and letter.isalpha():\n",
    "            if letter in list_letters:\n",
    "                print('Your have already added this value before\\n')\n",
    "                print(f\"The letters used are : {list_letters}\")\n",
    "                print(f\"The words used are : {word_list}\")\n",
    "                letter=input('Add a letter or a word which is not in the above list\\n')\n",
    "                word_to_complete_as_list\n",
    "            elif letter not in word_pc:\n",
    "                print(f\"Sorry, {letter} is not in the word\")\n",
    "                list_letters.append(letter)\n",
    "                tries -= 1\n",
    "            else:\n",
    "                print(f\"Good! {letter} is the word!\")\n",
    "                word_pc.split()\n",
    "                letter.append(word_pc[index])\n",
    "                word_to_complete.append(letter)    \n",
    "                list_letters.append(letter)\n",
    "                tries -= 1                    \n",
    "        elif len(guess) == len(word_pc) and letter.isalpha():\n",
    "            if letter in word_list:\n",
    "                print(f\"You already tried {letter}\")\n",
    "                letter=input('Add a letter which is not in the above list\\n')\n",
    "            \n",
    "\n",
    "        if letter in list_letters:\n",
    "            print('Your have already added this value before\\n')\n",
    "            print(list_letters)\n",
    "            letter=input('Add a letter which is not in the above list\\n')\n",
    "        else:\n",
    "            list_letters.append(letter)\n",
    "            flag=False\n",
    "    print('The list of letters already chosen are', list_letters)\n",
    "    \n",
    "    \n",
    "    # if you win ('Actually in France we cut off the king's head')"
   ]
  },
  {
   "cell_type": "code",
   "execution_count": null,
   "metadata": {},
   "outputs": [],
   "source": []
  }
 ],
 "metadata": {
  "kernelspec": {
   "display_name": "Python 3",
   "language": "python",
   "name": "python3"
  },
  "language_info": {
   "codemirror_mode": {
    "name": "ipython",
    "version": 3
   },
   "file_extension": ".py",
   "mimetype": "text/x-python",
   "name": "python",
   "nbconvert_exporter": "python",
   "pygments_lexer": "ipython3",
   "version": "3.8.5"
  }
 },
 "nbformat": 4,
 "nbformat_minor": 4
}
